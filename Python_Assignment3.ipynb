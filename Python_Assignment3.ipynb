{
 "cells": [
  {
   "cell_type": "code",
   "execution_count": 5,
   "metadata": {},
   "outputs": [
    {
     "name": "stdout",
     "output_type": "stream",
     "text": [
      "Provide the number to clculate the sum of natural number : 10\n",
      "List of First n Natural numbers are: [1, 2, 3, 4, 5, 6, 7, 8, 9, 10]\n",
      "Sum of List elements are : 55\n"
     ]
    }
   ],
   "source": [
    "#Write a Python Program to implement your own myreduce() function which works exactly like Python's built-in function reduce()\n",
    "\n",
    "# Find the sum of natural numbers by asking user for number\n",
    "\n",
    "def myReduce(num):\n",
    "    myList = list(range(1, num+1))\n",
    "    sum1 = 0\n",
    "    for i in myList:\n",
    "        sum1 = sum1 + i\n",
    "    return myList, sum1\n",
    "\n",
    "num=int(input(\"Provide the number to clculate the sum of natural number : \"))\n",
    "output = myReduce(num) \n",
    "print(\"List of First n Natural numbers are:\",output[0])\n",
    "print(\"Sum of List elements are :\",output[1])"
   ]
  },
  {
   "cell_type": "code",
   "execution_count": 8,
   "metadata": {},
   "outputs": [
    {
     "name": "stdout",
     "output_type": "stream",
     "text": [
      "Provide the number to find even and odd number from natural number list : 20\n",
      "List of First n Natural numbers are :  [1, 2, 3, 4, 5, 6, 7, 8, 9, 10, 11, 12, 13, 14, 15, 16, 17, 18, 19, 20]\n",
      "List of Even numbers are :  [2, 4, 6, 8, 10, 12, 14, 16, 18, 20]\n",
      "List of Odd numbers are :  [1, 3, 5, 7, 9, 11, 13, 15, 17, 19]\n"
     ]
    }
   ],
   "source": [
    "#Write a Python Program to implement your own myFilter() function which works exactly like Python's built-in function filter()\n",
    "\n",
    "# DO Filter even and odd number from list\n",
    "\n",
    "def myFilter(num):\n",
    "    myList = list(range(1, num+1))\n",
    "    evenList=[]\n",
    "    oddList=[]    \n",
    "    for i in myList:\n",
    "        if(i%2==0):\n",
    "            evenList.append(i)\n",
    "        else:\n",
    "            oddList.append(i)\n",
    "    return myList,evenList,oddList\n",
    "\n",
    "num=int(input(\"Provide the number to find even and odd number from natural number list : \"))\n",
    "\n",
    "output = myFilter(num)\n",
    "\n",
    "print(\"List of First n Natural numbers are : \",output[0])\n",
    "print(\"List of Even numbers are : \" , output[1])\n",
    "print(\"List of Odd numbers are : \" , output[2])"
   ]
  },
  {
   "cell_type": "code",
   "execution_count": 17,
   "metadata": {},
   "outputs": [
    {
     "name": "stdout",
     "output_type": "stream",
     "text": [
      "['x', 'xx', 'xxx', 'xxxx', 'y', 'yy', 'yyy', 'yyyy', 'z', 'zz', 'zzz', 'zzzz']\n",
      "['x', 'y', 'z', 'xx', 'yy', 'zz', 'xxx', 'yyy', 'zzz', 'xxxx', 'yyyy', 'zzzz']\n",
      "[[2], [3], [4], [3], [4], [5], [4], [5], [6]]\n",
      "[[2, 3, 4, 5], [3, 4, 5, 6], [4, 5, 6, 7], [5, 6, 7, 8]]\n",
      "[(1, 1), (2, 1), (3, 1), (1, 2), (2, 2), (3, 2), (1, 3), (2, 3), (3, 3)]\n"
     ]
    }
   ],
   "source": [
    "list1=list('xyz')\n",
    "word=[i*j for i in list1 for j in range(1,5)]\n",
    "print(word)\n",
    "\n",
    "word=[i*j for j in range(1,5) for i in list1]\n",
    "print(word)\n",
    "\n",
    "num1=[2,3,4]\n",
    "numset1=[[i+j] for i in num1 for j in range(0,3)]\n",
    "print(numset1)\n",
    "\n",
    "num2=[2,3,4,5]\n",
    "numset2=[[i+j for j in range(0,4)] for i in num2 ]\n",
    "print(numset2)\n",
    "\n",
    "num3=[1,2,3]\n",
    "numset3= [(i,j) for j in num3 for i in num3]\n",
    "print(numset3)"
   ]
  }
 ],
 "metadata": {
  "kernelspec": {
   "display_name": "Python 3",
   "language": "python",
   "name": "python3"
  },
  "language_info": {
   "codemirror_mode": {
    "name": "ipython",
    "version": 3
   },
   "file_extension": ".py",
   "mimetype": "text/x-python",
   "name": "python",
   "nbconvert_exporter": "python",
   "pygments_lexer": "ipython3",
   "version": "3.8.3"
  }
 },
 "nbformat": 4,
 "nbformat_minor": 4
}
