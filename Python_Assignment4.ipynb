{
 "cells": [
  {
   "cell_type": "code",
   "execution_count": 6,
   "metadata": {},
   "outputs": [
    {
     "name": "stdout",
     "output_type": "stream",
     "text": [
      "Enter length of triangle's first side : 10\n",
      "Enter length of triangle's second side : 7\n",
      "Enter length of triangle's third side : 7\n",
      "right triangle's proportions\n",
      "The area of the triangle is: 24.49489742783178\n"
     ]
    }
   ],
   "source": [
    "# find the area of the triangle using class concept\n",
    "\n",
    "import math\n",
    "\n",
    "class TriangleDim:\n",
    "    def __init__(self):\n",
    "        self.askTraingleSide()\n",
    "        \n",
    "    def askTraingleSide(self):\n",
    "        self.a = int(input(\"Enter length of triangle's first side : \"))\n",
    "        self.b = int(input(\"Enter length of triangle's second side : \"))\n",
    "        self.c = int(input(\"Enter length of triangle's third side : \"))\n",
    "        self.s = (self.a + self.b + self.c) / 2.0\n",
    "        \n",
    "    def isValidTraingleShape(self):\n",
    "        if (self.a + self.b > self.c) and (self.b + self.c > self.a) and (self.a + self.c > self.b): \n",
    "            print(\"right triangle's proportions\")\n",
    "        else: \n",
    "            print(\"not the right triangle's proportions\") \n",
    "        \n",
    "class AreaTri(TriangleDim):\n",
    "    def calculateArea(self):\n",
    "        area = math.sqrt(self.s * (self.s - self.a) * (self.s - self.b) * (self.s - self.c))\n",
    "        print(\"The area of the triangle is: {}\".format(area))\n",
    "        \n",
    "p = AreaTri()\n",
    "p.isValidTraingleShape()\n",
    "p.calculateArea()"
   ]
  },
  {
   "cell_type": "code",
   "execution_count": 10,
   "metadata": {},
   "outputs": [
    {
     "name": "stdout",
     "output_type": "stream",
     "text": [
      "Please enter your words seperated by comma : ineuron,santosh,keshari,abc,a,b,abcd\n",
      "Please enter number : 3\n",
      "['ineuron', 'santosh', 'keshari', 'abcd']\n"
     ]
    }
   ],
   "source": [
    "# Write a function filter_long_words() that takes a list of words and an integer n and returns the list of words that are longer than n.\n",
    "\n",
    "def filter_long_words(word_list, n):\n",
    "    wordlen=[]\n",
    "    for w in word_list:\n",
    "        if len(w) > n:\n",
    "            wordlen.append(w)\n",
    "        else:\n",
    "            continue\n",
    "    return wordlen\n",
    "\n",
    "word_list = input(\"Please enter your words seperated by comma : \")\n",
    "n = int(input(\"Please enter number : \"))\n",
    "word_list = word_list.split(\",\")\n",
    "\n",
    "print(filter_long_words(word_list,n))"
   ]
  },
  {
   "cell_type": "code",
   "execution_count": 20,
   "metadata": {},
   "outputs": [
    {
     "name": "stdout",
     "output_type": "stream",
     "text": [
      "Please enter Words seperated by comma : ab,cde,erty\n",
      "Length of Words are : [2, 3, 4]\n"
     ]
    }
   ],
   "source": [
    "#Write a Python program using function concept that maps list of words into a list of integers representing the lengths of the corresponding words.\n",
    "\n",
    "def mappingOfWordToLength(myList):\n",
    "    return list(map(len, myList))\n",
    "\n",
    "userInput=input(\"Please enter Words seperated by comma : \")\n",
    "userInput = userInput.split(\",\")\n",
    "\n",
    "myList=[w.strip() for w in userInput]\n",
    "\n",
    "Words_lengths=mappingOfWordToLength(myList)\n",
    "\n",
    "print(\"Length of Words are :\",Words_lengths )"
   ]
  },
  {
   "cell_type": "code",
   "execution_count": 1,
   "metadata": {},
   "outputs": [
    {
     "name": "stdout",
     "output_type": "stream",
     "text": [
      "Enter a character to check that it is Vowel or not :e\n",
      " Is it Vowel character :  True\n"
     ]
    }
   ],
   "source": [
    "#Write a Python function which takes a character (i.e. a string of length 1) and returns True if it is a vowel, False otherwise.\n",
    "\n",
    "def isVowelChar(char):\n",
    "    if len(char) != 1:\n",
    "        return False\n",
    "    vowelList=['a','e','i','o','u']\n",
    "    if char in vowelList:\n",
    "        return True\n",
    "    else:\n",
    "        return False\n",
    "    \n",
    "char = input(\"Enter a character to check that it is Vowel or not :\")\n",
    "\n",
    "print(\" Is it Vowel character : \",isVowelChar(char))"
   ]
  }
 ],
 "metadata": {
  "kernelspec": {
   "display_name": "Python 3",
   "language": "python",
   "name": "python3"
  },
  "language_info": {
   "codemirror_mode": {
    "name": "ipython",
    "version": 3
   },
   "file_extension": ".py",
   "mimetype": "text/x-python",
   "name": "python",
   "nbconvert_exporter": "python",
   "pygments_lexer": "ipython3",
   "version": "3.8.3"
  }
 },
 "nbformat": 4,
 "nbformat_minor": 4
}
